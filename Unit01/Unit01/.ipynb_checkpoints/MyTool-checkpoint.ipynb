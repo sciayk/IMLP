{
 "cells": [
  {
   "cell_type": "code",
   "execution_count": 2,
   "id": "413bc292",
   "metadata": {},
   "outputs": [],
   "source": [
    "def IsInt(value):\n",
    "    try:\n",
    "        inum = int(num)\n",
    "        return Ture\n",
    "    except:\n",
    "        return False"
   ]
  }
 ],
 "metadata": {
  "kernelspec": {
   "display_name": "Python 3 (ipykernel)",
   "language": "python",
   "name": "python3"
  },
  "language_info": {
   "codemirror_mode": {
    "name": "ipython",
    "version": 3
   },
   "file_extension": ".py",
   "mimetype": "text/x-python",
   "name": "python",
   "nbconvert_exporter": "python",
   "pygments_lexer": "ipython3",
   "version": "3.11.5"
  }
 },
 "nbformat": 4,
 "nbformat_minor": 5
}
